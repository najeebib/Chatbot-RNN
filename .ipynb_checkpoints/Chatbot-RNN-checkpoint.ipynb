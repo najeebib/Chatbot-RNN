{
 "cells": [
  {
   "cell_type": "code",
   "execution_count": 1,
   "id": "4f268e36-bf93-41d1-a830-e12fe7765902",
   "metadata": {},
   "outputs": [],
   "source": [
    "import torch\n",
    "import torch.nn as nn\n",
    "from torch import optim\n",
    "import torch.nn.functional as F\n",
    "import csv\n",
    "import random\n",
    "import re\n",
    "import os\n",
    "import unicodedata\n",
    "import codecs\n",
    "import itertools"
   ]
  },
  {
   "cell_type": "code",
   "execution_count": 2,
   "id": "a7e491b2-12bc-4007-9585-bcb3c5aef1e4",
   "metadata": {},
   "outputs": [],
   "source": [
    "CUDA = torch.cuda.is_available()\n",
    "device = torch.device(\"cuda\" if CUDA else \"cpu\")"
   ]
  },
  {
   "cell_type": "code",
   "execution_count": 3,
   "id": "9c6981aa-e19f-4d3b-b4f8-8f08718f92fe",
   "metadata": {},
   "outputs": [],
   "source": [
    "lines_filepath = os.path.join(\"cornell movie-dialogs corpus\", \"movie_lines.txt\")\n",
    "conv_filepath = os.path.join(\"cornell movie-dialogs corpus\", \"movie_conversations.txt\")"
   ]
  },
  {
   "cell_type": "code",
   "execution_count": 4,
   "id": "7f880ecb-0dd6-4c3a-a5e7-fe4e946036f5",
   "metadata": {},
   "outputs": [
    {
     "name": "stdout",
     "output_type": "stream",
     "text": [
      "L1045\tu0\tm0\tBIANCA\tThey do not!\n",
      "L1044\tu2\tm0\tCAMERON\tThey do to!\n",
      "L985\tu0\tm0\tBIANCA\tI hope so.\n",
      "L984\tu2\tm0\tCAMERON\tShe okay?\n",
      "L925\tu0\tm0\tBIANCA\tLet's go.\n",
      "L924\tu2\tm0\tCAMERON\tWow\n",
      "L872\tu0\tm0\tBIANCA\tOkay -- you're gonna need to learn how to lie.\n",
      "L871\tu2\tm0\tCAMERON\tNo\n"
     ]
    }
   ],
   "source": [
    "with open (lines_filepath, 'r', encoding='utf-8') as file:\n",
    "    lines = file.readlines()\n",
    "    for line in lines[:8]:\n",
    "        print(line.strip()) "
   ]
  },
  {
   "cell_type": "code",
   "execution_count": 5,
   "id": "546569e8-5f0f-4cbe-b1de-032bc5f2b1d0",
   "metadata": {},
   "outputs": [],
   "source": [
    "line_fields = [\"lineID\", \"characterID\",\"movieID\",\"character\",\"text\"]\n",
    "lines = {}\n",
    "with open (lines_filepath, 'r', encoding='iso-8859-1') as f:\n",
    "    for line in f:\n",
    "        values = line.split(\"\\t\")\n",
    "        lineObj = {}\n",
    "        for i, field in enumerate(line_fields):\n",
    "            lineObj[field] = values[i]\n",
    "        lines[lineObj['lineID']] = lineObj"
   ]
  },
  {
   "cell_type": "code",
   "execution_count": 7,
   "id": "a27b4409-8508-4b29-9be7-707a4edc20af",
   "metadata": {},
   "outputs": [],
   "source": [
    "conv_fields = [\"character1ID\", \"character2ID\",\"movieID\",\"utteranceIDs\"]\n",
    "conversations = []\n",
    "with open (conv_filepath, 'r', encoding='iso-8859-1') as f:\n",
    "    for line in f:\n",
    "        values = line.split(\"\\t\")\n",
    "        convObj = {}\n",
    "        for i,field in enumerate(conv_fields):\n",
    "            convObj[field] = values[i]        \n",
    "        lineIds = eval(convObj[\"utteranceIDs\"])\n",
    "        split_lineIds = [re.findall(r'L\\d+', string[0]) for string in lineIds]\n",
    "        temp = []\n",
    "        for string in lineIds:\n",
    "            temp = re.findall(r'L\\d+', string)\n",
    "        \n",
    "        convObj[\"lines\"] = []\n",
    "        for lineId in temp:\n",
    "            convObj[\"lines\"].append(lines[lineId])\n",
    "        conversations. append(convObj)"
   ]
  },
  {
   "cell_type": "code",
   "execution_count": 25,
   "id": "2f7064a8-68de-481b-98fc-00831b3bb569",
   "metadata": {},
   "outputs": [],
   "source": [
    "qa_pairs = []\n",
    "for conversation in conversations:\n",
    "    for i in range(len(conversation[\"lines\"]) -1):\n",
    "        inputLine = conversation[\"lines\"][i][\"text\"].replace(\"\\r\\r\\n\",\"\").strip()\n",
    "        targetLine = conversation[\"lines\"][i+1][\"text\"].replace(\"\\r\\r\\n\",\"\").strip()\n",
    "        if inputLine and targetLine:\n",
    "            qa_pairs.append([inputLine,targetLine])"
   ]
  },
  {
   "cell_type": "code",
   "execution_count": 26,
   "id": "24e97284-9b26-43fe-ade5-1c69fa0845d2",
   "metadata": {},
   "outputs": [
    {
     "name": "stdout",
     "output_type": "stream",
     "text": [
      "\n",
      "Writing newly formatted file...\n",
      "Done writing file\n"
     ]
    }
   ],
   "source": [
    "datafile = os.path.join(\"cornell movie-dialogs corpus\", \"formated_movie_lines.txt\")\n",
    "delimiter = '\\t'\n",
    "delimiter = str(codecs.decode(delimiter, \"unicode_escape\"))\n",
    "\n",
    "print(\"\\nWriting newly formatted file...\")\n",
    "with open(datafile,'w', encoding='utf-8') as outputfile:\n",
    "    writer = csv.writer(outputfile, delimiter=delimiter)\n",
    "    for pair in qa_pairs:\n",
    "        writer.writerow(pair)\n",
    "print(\"Done writing file\")"
   ]
  },
  {
   "cell_type": "code",
   "execution_count": 32,
   "id": "a4dad6d7-6f95-4bfe-a7eb-1e91b541f9fd",
   "metadata": {},
   "outputs": [
    {
     "name": "stdout",
     "output_type": "stream",
     "text": [
      "b\"Can we make this quick?  Roxanne Korrine and Andrew Barrett are having an incredibly horrendous public break- up on the quad.  Again.\\tWell I thought we'd start with pronunciation if that's okay with you.\\r\\r\\n\"\n",
      "b\"Well I thought we'd start with pronunciation if that's okay with you.\\tNot the hacking and gagging and spitting part.  Please.\\r\\r\\n\"\n",
      "b\"Not the hacking and gagging and spitting part.  Please.\\tOkay... then how 'bout we try out some French cuisine.  Saturday?  Night?\\r\\r\\n\"\n",
      "b\"You're asking me out.  That's so cute. What's your name again?\\tForget it.\\r\\r\\n\"\n",
      "b\"No no it's my fault -- we didn't have a proper introduction ---\\tCameron.\\r\\r\\n\"\n",
      "b\"Cameron.\\tThe thing is Cameron -- I'm at the mercy of a particularly hideous breed of loser.  My sister.  I can't date until she does.\\r\\r\\n\"\n",
      "b\"The thing is Cameron -- I'm at the mercy of a particularly hideous breed of loser.  My sister.  I can't date until she does.\\tSeems like she could get a date easy enough...\\r\\r\\n\"\n",
      "b'Why?\\tUnsolved mystery.  She used to be really popular when she started high school then it was just like she got sick of it or something.\\r\\r\\n'\n"
     ]
    }
   ],
   "source": [
    "with open(datafile, 'rb') as file:\n",
    "    lines = file.readlines()\n",
    "    for line in lines[:8]:\n",
    "        print(line)"
   ]
  },
  {
   "cell_type": "code",
   "execution_count": null,
   "id": "1d541690-1757-4630-87ce-61fd612b06b4",
   "metadata": {},
   "outputs": [],
   "source": []
  }
 ],
 "metadata": {
  "kernelspec": {
   "display_name": "Python 3",
   "language": "python",
   "name": "python3"
  },
  "language_info": {
   "codemirror_mode": {
    "name": "ipython",
    "version": 3
   },
   "file_extension": ".py",
   "mimetype": "text/x-python",
   "name": "python",
   "nbconvert_exporter": "python",
   "pygments_lexer": "ipython3",
   "version": "3.10.10"
  }
 },
 "nbformat": 4,
 "nbformat_minor": 5
}
